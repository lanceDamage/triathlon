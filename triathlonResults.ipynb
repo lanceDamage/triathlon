{
 "cells": [
  {
   "cell_type": "code",
   "execution_count": 1,
   "id": "0bda1636",
   "metadata": {},
   "outputs": [],
   "source": [
    "##I'm going to try and read in a small-seized data file (100s of MB) about triathlon and analyze it\n",
    "##Analytic Questions:\n",
    "##What is the average time for the run in a Sprint triathlon for a 46-year-old male?\n",
    "##What is the average time for the bike in a Sprint triathlon for a 46-year-old male?\n",
    "##What is the average time for the swim in a Sprint triathlon for a 46-year-old male?"
   ]
  },
  {
   "cell_type": "code",
   "execution_count": null,
   "id": "d1a10b66",
   "metadata": {},
   "outputs": [],
   "source": []
  },
  {
   "cell_type": "code",
   "execution_count": 2,
   "id": "de92986a",
   "metadata": {},
   "outputs": [],
   "source": [
    "##import packages\n",
    "import pandas as pd"
   ]
  },
  {
   "cell_type": "code",
   "execution_count": 4,
   "id": "cbbd6783",
   "metadata": {},
   "outputs": [
    {
     "name": "stdout",
     "output_type": "stream",
     "text": [
      "                                   event_link gender  \\\n",
      "0  /rus/result/ironman/ireland-cork/full/2019      M   \n",
      "1  /rus/result/ironman/ireland-cork/full/2019      F   \n",
      "2  /rus/result/ironman/ireland-cork/full/2019      M   \n",
      "\n",
      "                     person_link person_flag        person_name  \\\n",
      "0    /irl/profile/halliwell-mark         IRL    Halliwell, Mark   \n",
      "1      /usa/profile/harris-polly         USA      Harris, Polly   \n",
      "2  /fra/profile/peugeot-rodolphe         FRA  Peugeot, Rodolphe   \n",
      "\n",
      "  person_event_group person_event_swim_time_text person_event_t1_time_text  \\\n",
      "0             M45-49                        0:00                      0:00   \n",
      "1             F50-54                        0:00                      0:00   \n",
      "2             M25-29                        0:00                      0:00   \n",
      "\n",
      "  person_event_cycle_time_text person_event_t2_time_text  \\\n",
      "0                      7:52:05                     19:00   \n",
      "1                      7:58:53                     16:37   \n",
      "2                      7:57:05                     10:40   \n",
      "\n",
      "  person_event_run_time_text person_event_finish_time_text  \n",
      "0                    5:26:34                      13:37:39  \n",
      "1                    5:22:09                      13:37:40  \n",
      "2                    5:30:10                      13:37:55  \n"
     ]
    }
   ],
   "source": [
    "##get data into a data object\n",
    "# Assuming your CSV file is named 'triathlon_results.csv'\n",
    "df = pd.read_csv('postgres_public_tristat_stat.csv')\n",
    "print(df.head(3))"
   ]
  },
  {
   "cell_type": "code",
   "execution_count": 5,
   "id": "5a3cf0b1",
   "metadata": {},
   "outputs": [
    {
     "name": "stdout",
     "output_type": "stream",
     "text": [
      "['full' 'half' 'olympic' 'sprint' 'supersprint']\n"
     ]
    }
   ],
   "source": [
    "# Assuming df is your DataFrame and the column is named 'url_column'\n",
    "# Split the string by forward slash and get the word after the fifth forward slash\n",
    "df['word_after_fifth_slash'] = df['event_link'].str.split('/').str[5]\n",
    "\n",
    "# Print the unique values\n",
    "unique_words = df['word_after_fifth_slash'].unique()\n",
    "print(unique_words)"
   ]
  },
  {
   "cell_type": "code",
   "execution_count": 6,
   "id": "6766aa5d",
   "metadata": {},
   "outputs": [],
   "source": [
    "# Assuming df is your DataFrame\n",
    "# Create a boolean mask to filter rows where the word is 'sprint' and swim_time has less than or equal to 5 characters\n",
    "# add a couple clauses to only include swims and runs under an hour\n",
    "# these clauses are because I'm having a hard time processing times that are an hour or more. \n",
    "mask = (df['event_link'].str.split('/').str[5] == 'sprint') & (df['person_event_swim_time_text'].str.len() <= 5) & (df['person_event_cycle_time_text'].str.len() <= 5) & (df['person_event_run_time_text'].str.len() <= 5)\n",
    "\n",
    "# Apply the mask to the DataFrame\n",
    "sprint_df = df[mask]\n",
    "\n",
    "# Now, sprint_df contains only rows where the word is 'sprint' and swim, cycle, and run_time has less than or equal to 5 characters"
   ]
  },
  {
   "cell_type": "code",
   "execution_count": 7,
   "id": "9666be2e",
   "metadata": {},
   "outputs": [],
   "source": [
    "# Assuming your DataFrame is named sprint_df and you want to remove columns 'event_link', 'person_link' and 'person_name'\n",
    "columns_to_remove = ['event_link','person_link','person_name']\n",
    "df = sprint_df.drop(columns=columns_to_remove)"
   ]
  },
  {
   "cell_type": "code",
   "execution_count": 8,
   "id": "6d347e01",
   "metadata": {},
   "outputs": [
    {
     "name": "stdout",
     "output_type": "stream",
     "text": [
      "     gender flag     age swim_time t1_time cycle_time t2_time run_time  \\\n",
      "5501      M  RUS  M35-39     11:33    0:39      33:11    0:45    18:13   \n",
      "5502      M  RUS  M35-39     14:23    0:30      31:31    0:36    18:52   \n",
      "5503      M  RUS  M40-44     14:15    0:35      31:36    0:42    19:38   \n",
      "\n",
      "     finish_time word_after_fifth_slash  \n",
      "5501     1:04:21                 sprint  \n",
      "5502     1:05:52                 sprint  \n",
      "5503     1:06:46                 sprint  \n"
     ]
    }
   ],
   "source": [
    "##more clean up, change the column names\n",
    "# Assuming your DataFrame is named df and you want to change column names\n",
    "new_column_names = {'person_flag': 'flag', 'person_event_group': 'age','person_event_swim_time_text':'swim_time','person_event_t1_time_text':'t1_time','person_event_cycle_time_text':'cycle_time','person_event_t2_time_text':'t2_time','person_event_run_time_text':'run_time','person_event_finish_time_text':'finish_time'}\n",
    "\n",
    "df = df.rename(columns=new_column_names)\n",
    "print(df.head(3))"
   ]
  },
  {
   "cell_type": "code",
   "execution_count": 9,
   "id": "0f827b4a",
   "metadata": {},
   "outputs": [
    {
     "name": "stdout",
     "output_type": "stream",
     "text": [
      "     gender flag     age swim_time t1_time cycle_time t2_time run_time  \\\n",
      "5507      M  RUS  M45-49     13:25    0:48      32:16    0:48    22:05   \n",
      "5513      M  RUS  M45-49     14:23    0:51      35:00    0:51    21:05   \n",
      "5514      M  RUS  M45-49     16:01    0:40      34:09    0:40    20:45   \n",
      "\n",
      "     finish_time word_after_fifth_slash  \n",
      "5507     1:09:21                 sprint  \n",
      "5513     1:12:10                 sprint  \n",
      "5514     1:12:15                 sprint  \n"
     ]
    }
   ],
   "source": [
    "##filter the data\n",
    "# Assuming your dataset has columns like 'Age', 'Gender', 'RunTime'\n",
    "filtered_data = df[(df['age'] == 'M45-49') & (df['gender'] == 'M')]\n",
    "print(filtered_data.head(3))"
   ]
  },
  {
   "cell_type": "code",
   "execution_count": 10,
   "id": "00a54cfa",
   "metadata": {},
   "outputs": [
    {
     "name": "stdout",
     "output_type": "stream",
     "text": [
      "     gender flag     age swim_time t1_time cycle_time t2_time run_time  \\\n",
      "5507      M  RUS  M45-49      1325    0:48       3216    0:48     2205   \n",
      "5513      M  RUS  M45-49      1423    0:51       3500    0:51     2105   \n",
      "5514      M  RUS  M45-49      1601    0:40       3409    0:40     2045   \n",
      "5525      M  RUS  M45-49      2120    0:00       3424    0:46     2101   \n",
      "\n",
      "     finish_time word_after_fifth_slash  \n",
      "5507     1:09:21                 sprint  \n",
      "5513     1:12:10                 sprint  \n",
      "5514     1:12:15                 sprint  \n",
      "5525     1:17:31                 sprint  \n"
     ]
    },
    {
     "name": "stderr",
     "output_type": "stream",
     "text": [
      "/tmp/ipykernel_54/416027161.py:2: SettingWithCopyWarning: \n",
      "A value is trying to be set on a copy of a slice from a DataFrame.\n",
      "Try using .loc[row_indexer,col_indexer] = value instead\n",
      "\n",
      "See the caveats in the documentation: https://pandas.pydata.org/pandas-docs/stable/user_guide/indexing.html#returning-a-view-versus-a-copy\n",
      "  filtered_data['swim_time'] = filtered_data['swim_time'].str.replace(':', '')\n",
      "/tmp/ipykernel_54/416027161.py:5: SettingWithCopyWarning: \n",
      "A value is trying to be set on a copy of a slice from a DataFrame.\n",
      "Try using .loc[row_indexer,col_indexer] = value instead\n",
      "\n",
      "See the caveats in the documentation: https://pandas.pydata.org/pandas-docs/stable/user_guide/indexing.html#returning-a-view-versus-a-copy\n",
      "  filtered_data['cycle_time'] = filtered_data['cycle_time'].str.replace(':', '')\n",
      "/tmp/ipykernel_54/416027161.py:8: SettingWithCopyWarning: \n",
      "A value is trying to be set on a copy of a slice from a DataFrame.\n",
      "Try using .loc[row_indexer,col_indexer] = value instead\n",
      "\n",
      "See the caveats in the documentation: https://pandas.pydata.org/pandas-docs/stable/user_guide/indexing.html#returning-a-view-versus-a-copy\n",
      "  filtered_data['run_time'] = filtered_data['run_time'].str.replace(':', '')\n"
     ]
    }
   ],
   "source": [
    "# Assuming filtered_data is your DataFrame and 'swim_time' is the column containing times with colons\n",
    "filtered_data['swim_time'] = filtered_data['swim_time'].str.replace(':', '')\n",
    "\n",
    "# Assuming filtered_data is your DataFrame and 'cycle_time' is the column containing times with colons\n",
    "filtered_data['cycle_time'] = filtered_data['cycle_time'].str.replace(':', '')\n",
    "\n",
    "# Assuming filtered_data is your DataFrame and 'run_time' is the column containing times with colons\n",
    "filtered_data['run_time'] = filtered_data['run_time'].str.replace(':', '')\n",
    "\n",
    "\n",
    "\n",
    "# Now, filtered_data will have colons removed from each value in the column\n",
    "print(filtered_data.head(4))"
   ]
  },
  {
   "cell_type": "code",
   "execution_count": 11,
   "id": "3e402fd1",
   "metadata": {},
   "outputs": [],
   "source": [
    "# Filter out rows where 'swim_time' is not equal to zero\n",
    "filtered_data = filtered_data[filtered_data['swim_time'] != '0']\n",
    "\n",
    "# Filter out rows where 'cycle_time' is not equal to zero\n",
    "filtered_data = filtered_data[filtered_data['cycle_time'] != '0']\n",
    "\n",
    "# Filter out rows where 'run_time' is not equal to zero\n",
    "filtered_data = filtered_data[filtered_data['run_time'] != '0']"
   ]
  },
  {
   "cell_type": "code",
   "execution_count": 12,
   "id": "9bc27f3e",
   "metadata": {},
   "outputs": [
    {
     "name": "stdout",
     "output_type": "stream",
     "text": [
      "inf\n",
      "inf\n",
      "inf\n"
     ]
    }
   ],
   "source": [
    "##create swim average\n",
    "average_swim_time = filtered_data['swim_time'].mean()\n",
    "print(average_swim_time)\n",
    "\n",
    "##create cycle average\n",
    "average_cycle_time = filtered_data['cycle_time'].mean()\n",
    "print(average_cycle_time)\n",
    "\n",
    "##create run average\n",
    "average_run_time = filtered_data['run_time'].mean()\n",
    "print(average_run_time)"
   ]
  },
  {
   "cell_type": "code",
   "execution_count": 13,
   "id": "4c2525f0",
   "metadata": {},
   "outputs": [],
   "source": [
    "# Assuming filtered_data is your DataFrame\n",
    "# We are going to fix whatever is causing the inf by converting to numeric\n",
    "\n",
    "# Convert 'swim_time' to numeric, replacing non-numeric values with NaN\n",
    "filtered_data['swim_time'] = pd.to_numeric(filtered_data['swim_time'], errors='coerce')\n",
    "# Drop rows with NaN values in 'swim_time'\n",
    "filtered_data = filtered_data.dropna(subset=['swim_time'])\n",
    "\n",
    "# Convert 'cycle_time' to numeric, replacing non-numeric values with NaN\n",
    "filtered_data['cycle_time'] = pd.to_numeric(filtered_data['cycle_time'], errors='coerce')\n",
    "# Drop rows with NaN values in 'cycle_time'\n",
    "filtered_data = filtered_data.dropna(subset=['cycle_time'])\n",
    "\n",
    "# Convert 'run_time' to numeric, replacing non-numeric values with NaN\n",
    "filtered_data['run_time'] = pd.to_numeric(filtered_data['run_time'], errors='coerce')\n",
    "# Drop rows with NaN values in 'run_time'\n",
    "filtered_data = filtered_data.dropna(subset=['run_time'])"
   ]
  },
  {
   "cell_type": "code",
   "execution_count": 14,
   "id": "d7a85f92",
   "metadata": {},
   "outputs": [],
   "source": [
    "# Now that the column is changed to numeric values, the 0's can be removed\n",
    "# Filter out rows where 'swim_time' is not equal to zero\n",
    "filtered_data = filtered_data[filtered_data['swim_time'] != '0']\n",
    "filtered_data = filtered_data[filtered_data['cycle_time'] != '0']\n",
    "filtered_data = filtered_data[filtered_data['run_time'] != '0']"
   ]
  },
  {
   "cell_type": "code",
   "execution_count": 24,
   "id": "5e77be04",
   "metadata": {},
   "outputs": [
    {
     "name": "stdout",
     "output_type": "stream",
     "text": [
      "The average swim time for males, 45-50, in sprint triathlons is 14:08 to go 750 meters\n",
      "The average cycle time for males, 45-50, in sprint triathlons is 37:80 to go 12.4 miles\n",
      "The average run time for males, 45-50, in sprint triathlons is 23:74 to go 3.1 miles\n"
     ]
    }
   ],
   "source": [
    "##create and format averages\n",
    "#swim\n",
    "total_swim_seconds = int(filtered_data['swim_time'].mean())\n",
    "formatted_swim_time = f'{total_swim_seconds // 100}:{total_swim_seconds % 100:02d}'\n",
    "#cycle\n",
    "total_cycle_seconds = int(filtered_data['cycle_time'].mean())\n",
    "formatted_cycle_time = f'{total_cycle_seconds // 100}:{total_cycle_seconds % 100:02d}'\n",
    "#run\n",
    "total_run_seconds = int(filtered_data['run_time'].mean())\n",
    "formatted_run_time = f'{total_run_seconds // 100}:{total_run_seconds % 100:02d}'\n",
    "\n",
    "print('The average swim time for males, 45-50, in sprint triathlons is', formatted_swim_time, 'to go 750 meters')\n",
    "print('The average cycle time for males, 45-50, in sprint triathlons is', formatted_cycle_time, 'to go 12.4 miles')\n",
    "print('The average run time for males, 45-50, in sprint triathlons is', formatted_run_time, 'to go 3.1 miles')"
   ]
  }
 ],
 "metadata": {
  "kernelspec": {
   "display_name": "Python 3 (ipykernel)",
   "language": "python",
   "name": "python3"
  },
  "language_info": {
   "codemirror_mode": {
    "name": "ipython",
    "version": 3
   },
   "file_extension": ".py",
   "mimetype": "text/x-python",
   "name": "python",
   "nbconvert_exporter": "python",
   "pygments_lexer": "ipython3",
   "version": "3.11.5"
  }
 },
 "nbformat": 4,
 "nbformat_minor": 5
}
